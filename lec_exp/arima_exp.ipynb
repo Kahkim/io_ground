{
 "cells": [
  {
   "cell_type": "markdown",
   "metadata": {},
   "source": [
    "### 필요 라이브러리 설치"
   ]
  },
  {
   "cell_type": "code",
   "execution_count": 8,
   "metadata": {},
   "outputs": [
    {
     "name": "stdout",
     "output_type": "stream",
     "text": [
      "Collecting statsmodels\n",
      "  Downloading statsmodels-0.14.2-cp312-cp312-win_amd64.whl.metadata (9.5 kB)\n",
      "Requirement already satisfied: numpy>=1.22.3 in c:\\projects\\io_ground\\io_ground_venv\\lib\\site-packages (from statsmodels) (1.26.4)\n",
      "Requirement already satisfied: scipy!=1.9.2,>=1.8 in c:\\projects\\io_ground\\io_ground_venv\\lib\\site-packages (from statsmodels) (1.14.0)\n",
      "Requirement already satisfied: pandas!=2.1.0,>=1.4 in c:\\projects\\io_ground\\io_ground_venv\\lib\\site-packages (from statsmodels) (2.2.2)\n",
      "Collecting patsy>=0.5.6 (from statsmodels)\n",
      "  Downloading patsy-0.5.6-py2.py3-none-any.whl.metadata (3.5 kB)\n",
      "Requirement already satisfied: packaging>=21.3 in c:\\projects\\io_ground\\io_ground_venv\\lib\\site-packages (from statsmodels) (24.0)\n",
      "Requirement already satisfied: python-dateutil>=2.8.2 in c:\\projects\\io_ground\\io_ground_venv\\lib\\site-packages (from pandas!=2.1.0,>=1.4->statsmodels) (2.9.0.post0)\n",
      "Requirement already satisfied: pytz>=2020.1 in c:\\projects\\io_ground\\io_ground_venv\\lib\\site-packages (from pandas!=2.1.0,>=1.4->statsmodels) (2024.1)\n",
      "Requirement already satisfied: tzdata>=2022.7 in c:\\projects\\io_ground\\io_ground_venv\\lib\\site-packages (from pandas!=2.1.0,>=1.4->statsmodels) (2024.1)\n",
      "Requirement already satisfied: six in c:\\projects\\io_ground\\io_ground_venv\\lib\\site-packages (from patsy>=0.5.6->statsmodels) (1.16.0)\n",
      "Downloading statsmodels-0.14.2-cp312-cp312-win_amd64.whl (9.8 MB)\n",
      "   ---------------------------------------- 0.0/9.8 MB ? eta -:--:--\n",
      "   --------- ------------------------------ 2.2/9.8 MB 137.6 MB/s eta 0:00:01\n",
      "   --------- ------------------------------ 2.3/9.8 MB 36.4 MB/s eta 0:00:01\n",
      "   ---------- ----------------------------- 2.5/9.8 MB 19.6 MB/s eta 0:00:01\n",
      "   ----------- ---------------------------- 2.8/9.8 MB 17.7 MB/s eta 0:00:01\n",
      "   ------------------ --------------------- 4.6/9.8 MB 22.4 MB/s eta 0:00:01\n",
      "   ------------------------------ --------- 7.5/9.8 MB 30.0 MB/s eta 0:00:01\n",
      "   ------------------------------- -------- 7.6/9.8 MB 25.7 MB/s eta 0:00:01\n",
      "   -------------------------------- ------- 8.0/9.8 MB 23.3 MB/s eta 0:00:01\n",
      "   ---------------------------------------  9.8/9.8 MB 25.1 MB/s eta 0:00:01\n",
      "   ---------------------------------------- 9.8/9.8 MB 23.3 MB/s eta 0:00:00\n",
      "Downloading patsy-0.5.6-py2.py3-none-any.whl (233 kB)\n",
      "   ---------------------------------------- 0.0/233.9 kB ? eta -:--:--\n",
      "   ---------------------------------------- 233.9/233.9 kB ? eta 0:00:00\n",
      "Installing collected packages: patsy, statsmodels\n",
      "Successfully installed patsy-0.5.6 statsmodels-0.14.2\n"
     ]
    }
   ],
   "source": [
    "!pip install statsmodels"
   ]
  },
  {
   "cell_type": "markdown",
   "metadata": {},
   "source": [
    "### 필요 라이브러리 import"
   ]
  },
  {
   "cell_type": "code",
   "execution_count": 258,
   "metadata": {},
   "outputs": [],
   "source": [
    "import FinanceDataReader as fdr\n",
    "import pandas as pd\n",
    "import numpy as np"
   ]
  },
  {
   "cell_type": "markdown",
   "metadata": {},
   "source": [
    "### 삼성전자 주가 가져오기"
   ]
  },
  {
   "cell_type": "code",
   "execution_count": 259,
   "metadata": {},
   "outputs": [
    {
     "name": "stdout",
     "output_type": "stream",
     "text": [
      "<class 'pandas.core.frame.DataFrame'>\n",
      "DatetimeIndex: 2479 entries, 2014-07-01 to 2024-07-26\n",
      "Data columns (total 6 columns):\n",
      " #   Column  Non-Null Count  Dtype  \n",
      "---  ------  --------------  -----  \n",
      " 0   Open    2479 non-null   int64  \n",
      " 1   High    2479 non-null   int64  \n",
      " 2   Low     2479 non-null   int64  \n",
      " 3   Close   2479 non-null   int64  \n",
      " 4   Volume  2479 non-null   int64  \n",
      " 5   Change  2479 non-null   float64\n",
      "dtypes: float64(1), int64(5)\n",
      "memory usage: 135.6 KB\n"
     ]
    }
   ],
   "source": [
    "# https://velog.io/@choonsik_mom/ARIMA-SARIMA-auto-ARIMA%EB%A1%9C-%EC%82%BC%EC%A0%84-%EC%A3%BC%EA%B0%80-%EC%98%88%EC%B8%A1%ED%95%98%EA%B8%B0\n",
    "# 김성범 교수님 arima 실습\n",
    "\n",
    "\n",
    "df = fdr.DataReader('005930', '2014-07-01', '2024-07-26')\n",
    "df.info()\n",
    "# df.tail(50)\n",
    "# df.plot()\n",
    "# fig = df['Close'].plot()"
   ]
  },
  {
   "cell_type": "code",
   "execution_count": 454,
   "metadata": {},
   "outputs": [
    {
     "name": "stdout",
     "output_type": "stream",
     "text": [
      "<class 'pandas.core.series.Series'>\n",
      "DatetimeIndex: 275 entries, 2023-01-02 to 2024-02-14\n",
      "Series name: Close\n",
      "Non-Null Count  Dtype\n",
      "--------------  -----\n",
      "275 non-null    int64\n",
      "dtypes: int64(1)\n",
      "memory usage: 4.3 KB\n",
      "<class 'pandas.core.series.Series'>\n",
      "DatetimeIndex: 10 entries, 2024-02-15 to 2024-02-28\n",
      "Series name: Close\n",
      "Non-Null Count  Dtype\n",
      "--------------  -----\n",
      "10 non-null     int64\n",
      "dtypes: int64(1)\n",
      "memory usage: 160.0 bytes\n"
     ]
    },
    {
     "data": {
      "text/plain": [
       "Date\n",
       "2024-02-15    73000\n",
       "2024-02-16    72800\n",
       "2024-02-19    73800\n",
       "2024-02-20    73300\n",
       "2024-02-21    73000\n",
       "2024-02-22    73100\n",
       "2024-02-23    72900\n",
       "2024-02-26    72800\n",
       "2024-02-27    72900\n",
       "2024-02-28    73200\n",
       "Name: Close, dtype: int64"
      ]
     },
     "execution_count": 454,
     "metadata": {},
     "output_type": "execute_result"
    }
   ],
   "source": [
    "# 기간 필터링\n",
    "demands = df.loc[(df.index >= '2023-01-01') & (df.index <= '2024-02-14'), 'Close']\n",
    "demands.info()\n",
    "demands\n",
    "\n",
    "test_demands = df.loc[(df.index >= '2024-02-15') & (df.index <= '2024-02-28'), 'Close']\n",
    "test_demands.info()\n",
    "test_demands"
   ]
  },
  {
   "cell_type": "markdown",
   "metadata": {},
   "source": [
    "### 정상성 검증"
   ]
  },
  {
   "cell_type": "code",
   "execution_count": 483,
   "metadata": {},
   "outputs": [
    {
     "data": {
      "image/png": "[encoded data removed]",
      "text/plain": [
       "<Figure size 1200x400 with 2 Axes>"
      ]
     },
     "metadata": {},
     "output_type": "display_data"
    }
   ],
   "source": [
    "from statsmodels.graphics.tsaplots import plot_acf, plot_pacf\n",
    "\n",
    "fig, axes = plt.subplots(1, 2)\n",
    "fig.set_size_inches(12, 4)\n",
    "\n",
    "# ACF Plot\n",
    "plot_acf(demands.values, lags=20, ax=axes[0])\n",
    "# PACF Plot\n",
    "plot_pacf(demands.values, lags=20, ax=axes[1])\n",
    "\n",
    "for ax in axes:\n",
    "    ax.set_ylim(-0.5, 1.25)\n",
    "plt.show()"
   ]
  },
  {
   "cell_type": "code",
   "execution_count": 481,
   "metadata": {},
   "outputs": [],
   "source": [
    "# 1차 차분에 대한 결과\n",
    "diff = 1\n",
    "diff_1 = demands.diff(periods=diff).iloc[diff:]\n",
    "# diff_1.values"
   ]
  },
  {
   "cell_type": "code",
   "execution_count": 474,
   "metadata": {},
   "outputs": [
    {
     "name": "stdout",
     "output_type": "stream",
     "text": [
      "KPSS Stat: 0.81503\n",
      "p-value: 0.01\n",
      "Lags: 30\n"
     ]
    },
    {
     "name": "stderr",
     "output_type": "stream",
     "text": [
      "C:\\Users\\USER\\AppData\\Local\\Temp\\ipykernel_2084\\554610093.py:3: InterpolationWarning: The test statistic is outside of the range of p-values available in the\n",
      "look-up table. The actual p-value is smaller than the p-value returned.\n",
      "\n",
      "  stats, p_value, nlags, critical_values = kpss(demands.values, nlags=30)\n"
     ]
    }
   ],
   "source": [
    "from statsmodels.tsa.stattools import kpss\n",
    "    \n",
    "stats, p_value, nlags, critical_values = kpss(demands.values, nlags=30)\n",
    "    \n",
    "print(f'KPSS Stat: {stats:.5f}')\n",
    "print(f'p-value: {p_value:.2f}') # p-value > 0.05 -> 정상성\n",
    "print(f'Lags: {nlags}')"
   ]
  },
  {
   "cell_type": "markdown",
   "metadata": {},
   "source": [
    "### arima 모델 학습"
   ]
  },
  {
   "cell_type": "code",
   "execution_count": 478,
   "metadata": {},
   "outputs": [
    {
     "name": "stderr",
     "output_type": "stream",
     "text": [
      "c:\\Projects\\io_ground\\io_ground_venv\\Lib\\site-packages\\statsmodels\\tsa\\statespace\\sarimax.py:966: UserWarning: Non-stationary starting autoregressive parameters found. Using zeros as starting parameters.\n",
      "  warn('Non-stationary starting autoregressive parameters'\n",
      "c:\\Projects\\io_ground\\io_ground_venv\\Lib\\site-packages\\statsmodels\\tsa\\statespace\\sarimax.py:978: UserWarning: Non-invertible starting MA parameters found. Using zeros as starting parameters.\n",
      "  warn('Non-invertible starting MA parameters found.'\n",
      "c:\\Projects\\io_ground\\io_ground_venv\\Lib\\site-packages\\statsmodels\\base\\model.py:607: ConvergenceWarning: Maximum Likelihood optimization failed to converge. Check mle_retvals\n",
      "  warnings.warn(\"Maximum Likelihood optimization failed to \"\n"
     ]
    },
    {
     "name": "stdout",
     "output_type": "stream",
     "text": [
      "                               SARIMAX Results                                \n",
      "==============================================================================\n",
      "Dep. Variable:                      y   No. Observations:                  275\n",
      "Model:                 ARIMA(4, 1, 4)   Log Likelihood               -2254.506\n",
      "Date:                Mon, 29 Jul 2024   AIC                           4527.012\n",
      "Time:                        20:43:25   BIC                           4559.530\n",
      "Sample:                             0   HQIC                          4540.064\n",
      "                                - 275                                         \n",
      "Covariance Type:                  opg                                         \n",
      "==============================================================================\n",
      "                 coef    std err          z      P>|z|      [0.025      0.975]\n",
      "------------------------------------------------------------------------------\n",
      "ar.L1         -0.1322      0.111     -1.195      0.232      -0.349       0.085\n",
      "ar.L2          1.2072      0.093     12.929      0.000       1.024       1.390\n",
      "ar.L3         -0.2435      0.102     -2.384      0.017      -0.444      -0.043\n",
      "ar.L4         -0.8779      0.111     -7.878      0.000      -1.096      -0.660\n",
      "ma.L1          0.1008      0.127      0.791      0.429      -0.149       0.350\n",
      "ma.L2         -1.1887      0.102    -11.599      0.000      -1.390      -0.988\n",
      "ma.L3          0.2914      0.116      2.515      0.012       0.064       0.518\n",
      "ma.L4          0.8753      0.131      6.661      0.000       0.618       1.133\n",
      "sigma2      7.845e+05    5.5e+04     14.277      0.000    6.77e+05    8.92e+05\n",
      "===================================================================================\n",
      "Ljung-Box (L1) (Q):                   0.03   Jarque-Bera (JB):                28.07\n",
      "Prob(Q):                              0.86   Prob(JB):                         0.00\n",
      "Heteroskedasticity (H):               1.17   Skew:                             0.49\n",
      "Prob(H) (two-sided):                  0.45   Kurtosis:                         4.23\n",
      "===================================================================================\n",
      "\n",
      "Warnings:\n",
      "[1] Covariance matrix calculated using the outer product of gradients (complex-step).\n",
      "[74060.85837634 74010.21308342 73969.8182461  73943.35456144\n",
      " 73856.990734   73890.75725872 73823.94189807 73917.80322082\n",
      " 73892.33433293 73995.64147821]\n",
      "DatetimeIndex(['2024-02-15', '2024-02-16', '2024-02-19', '2024-02-20',\n",
      "               '2024-02-21', '2024-02-22', '2024-02-23', '2024-02-26',\n",
      "               '2024-02-27', '2024-02-28'],\n",
      "              dtype='datetime64[ns]', name='Date', freq=None)\n"
     ]
    }
   ],
   "source": [
    "from statsmodels.tsa.arima.model import ARIMA\n",
    "from statsmodels.tsa.statespace.sarimax import SARIMAX\n",
    "\n",
    "model = ARIMA(demands.values, order=(4, 1, 4))\n",
    "model_fit = model.fit()\n",
    "print(model_fit.summary())\n",
    "\n",
    "pred = model_fit.get_forecast(steps=len(test_demands))\n",
    "\n",
    "# print(pred)\n",
    "print(pred.predicted_mean)\n",
    "# print(pred.conf_int(alpha=0.95))\n",
    "# # print(pred.astype(int))\n",
    "# print(test_demands.to_list())\n",
    "# # pred.conf_int(alpha=0.95)[:,0]\n",
    "# print(test_demands.index)"
   ]
  },
  {
   "cell_type": "markdown",
   "metadata": {},
   "source": [
    "### 결과 시각화"
   ]
  },
  {
   "cell_type": "code",
   "execution_count": null,
   "metadata": {},
   "outputs": [],
   "source": [
    "import matplotlib.pyplot as plt\n",
    "\n",
    "fig, ax = plt.subplots(figsize=(12, 6))\n",
    "demands.tail(150).plot(ax =ax)\n",
    "ax.plot(test_demands.index, pred.predicted_mean, label='Prediction')\n",
    "ax.plot(test_demands.index, test_demands, label='Actual')\n",
    "ax.fill_between(test_demands.index, pred.conf_int(alpha=0.90)[:,0], pred.conf_int(alpha=0.90)[:,1], color='k', alpha=0.1, label='0.95 pred Interval')\n",
    "ax.legend(loc='upper left')\n",
    "plt.show()"
   ]
  },
  {
   "cell_type": "markdown",
   "metadata": {},
   "source": [
    "### hyperparameter 튜닝"
   ]
  },
  {
   "cell_type": "code",
   "execution_count": null,
   "metadata": {},
   "outputs": [],
   "source": [
    "import itertools\n",
    "\n",
    "p = range(0, 6)\n",
    "d = range(1, 2)\n",
    "q = range(0, 6)\n",
    "pdq = list(itertools.product(p, d, q))\n",
    "\n",
    "AIC = []\n",
    "for i in pdq :\n",
    "    model = ARIMA(demands.values, order=(i))\n",
    "    model_fit = model.fit()\n",
    "    print(f'ARIMA pdq : {i} >> AIC : {round(model_fit.aic, 2)}')\n",
    "    AIC.append(round(model_fit.aic, 2))"
   ]
  },
  {
   "cell_type": "markdown",
   "metadata": {},
   "source": [
    "### 평가"
   ]
  },
  {
   "cell_type": "code",
   "execution_count": 477,
   "metadata": {},
   "outputs": [
    {
     "name": "stdout",
     "output_type": "stream",
     "text": [
      "MSE: 603894.6450896903\n",
      "MAE: 749.9901872430855\n"
     ]
    }
   ],
   "source": [
    "from sklearn.metrics import mean_squared_error as MSE\n",
    "from sklearn.metrics import mean_absolute_error as MAE\n",
    "\n",
    "print('MSE:', MSE(pred.predicted_mean, test_demands.to_list()))\n",
    "print('MAE:', MAE(pred.predicted_mean, test_demands.to_list()))"
   ]
  },
  {
   "cell_type": "markdown",
   "metadata": {},
   "source": [
    "### 추가 samrima, auto arima"
   ]
  },
  {
   "cell_type": "code",
   "execution_count": 417,
   "metadata": {},
   "outputs": [
    {
     "name": "stderr",
     "output_type": "stream",
     "text": [
      "c:\\Projects\\io_ground\\io_ground_venv\\Lib\\site-packages\\statsmodels\\tsa\\statespace\\representation.py:374: FutureWarning: Unknown keyword arguments: dict_keys(['season_order']).Passing unknown keyword arguments will raise a TypeError beginning in version 0.15.\n",
      "  warnings.warn(msg, FutureWarning)\n",
      "c:\\Projects\\io_ground\\io_ground_venv\\Lib\\site-packages\\statsmodels\\base\\model.py:607: ConvergenceWarning: Maximum Likelihood optimization failed to converge. Check mle_retvals\n",
      "  warnings.warn(\"Maximum Likelihood optimization failed to \"\n"
     ]
    },
    {
     "name": "stdout",
     "output_type": "stream",
     "text": [
      "[73561.15414838 73203.95484795 73454.78148426 73933.88245409\n",
      " 73969.56109543 73538.2746711  73259.72122531 73508.01478944\n",
      " 73911.5542395  73906.70904957]\n"
     ]
    },
    {
     "data": {
      "image/png": "[encoded data removed]",
      "text/plain": [
       "<Figure size 1200x600 with 1 Axes>"
      ]
     },
     "metadata": {},
     "output_type": "display_data"
    }
   ],
   "source": [
    "from statsmodels.tsa.arima.model import ARIMA\n",
    "from statsmodels.tsa.statespace.sarimax import SARIMAX\n",
    "\n",
    "# model = ARIMA(demands.values, order=(0, 1, 2))\n",
    "model = SARIMAX(demands.values, \n",
    "                order=(2, 1, 3), \n",
    "                season_order = (1, 1, 2, 14)).fit(disp=False)\n",
    "# model_fit = model.fit()\n",
    "# print(model_fit.summary())\n",
    "\n",
    "pred = model.get_forecast(steps=len(test_demands))\n",
    "# pred = model_fit.predict(start=1)\n",
    "\n",
    "# pred = auto_arima_model.predict(len(test_demands), return_conf_int=True)\n",
    "# print(pred)\n",
    "print(pred.predicted_mean)\n",
    "# print(pred.conf_int(alpha=0.95))\n",
    "# # print(pred.astype(int))\n",
    "# print(test_demands.to_list())\n",
    "# # pred.conf_int(alpha=0.95)[:,0]\n",
    "\n",
    "import matplotlib.pyplot as plt\n",
    "\n",
    "fig, ax = plt.subplots(figsize=(12, 6))\n",
    "demands.tail(50).plot(ax =ax)\n",
    "ax.plot(test_demands.index, pred.predicted_mean, label='Prediction')\n",
    "ax.plot(test_demands.index, test_demands, label='Actual')\n",
    "ax.fill_between(test_demands.index, pred.conf_int(alpha=0.95)[:,0], pred.conf_int(alpha=0.95)[:,1], color='k', alpha=0.1, label='0.95 pred Interval')\n",
    "ax.legend(loc='upper left')\n",
    "plt.show()"
   ]
  },
  {
   "cell_type": "code",
   "execution_count": 238,
   "metadata": {},
   "outputs": [
    {
     "name": "stdout",
     "output_type": "stream",
     "text": [
      "Collecting pmdarima\n",
      "  Downloading pmdarima-2.0.4-cp312-cp312-win_amd64.whl.metadata (8.0 kB)\n",
      "Requirement already satisfied: joblib>=0.11 in c:\\projects\\io_ground\\io_ground_venv\\lib\\site-packages (from pmdarima) (1.4.2)\n",
      "Collecting Cython!=0.29.18,!=0.29.31,>=0.29 (from pmdarima)\n",
      "  Downloading Cython-3.0.10-cp312-cp312-win_amd64.whl.metadata (3.2 kB)\n",
      "Requirement already satisfied: numpy>=1.21.2 in c:\\projects\\io_ground\\io_ground_venv\\lib\\site-packages (from pmdarima) (1.26.4)\n",
      "Requirement already satisfied: pandas>=0.19 in c:\\projects\\io_ground\\io_ground_venv\\lib\\site-packages (from pmdarima) (2.2.2)\n",
      "Requirement already satisfied: scikit-learn>=0.22 in c:\\projects\\io_ground\\io_ground_venv\\lib\\site-packages (from pmdarima) (1.5.1)\n",
      "Requirement already satisfied: scipy>=1.3.2 in c:\\projects\\io_ground\\io_ground_venv\\lib\\site-packages (from pmdarima) (1.14.0)\n",
      "Requirement already satisfied: statsmodels>=0.13.2 in c:\\projects\\io_ground\\io_ground_venv\\lib\\site-packages (from pmdarima) (0.14.2)\n",
      "Requirement already satisfied: urllib3 in c:\\projects\\io_ground\\io_ground_venv\\lib\\site-packages (from pmdarima) (2.2.1)\n",
      "Collecting setuptools!=50.0.0,>=38.6.0 (from pmdarima)\n",
      "  Downloading setuptools-72.0.0-py3-none-any.whl.metadata (6.6 kB)\n",
      "Requirement already satisfied: packaging>=17.1 in c:\\projects\\io_ground\\io_ground_venv\\lib\\site-packages (from pmdarima) (24.0)\n",
      "Requirement already satisfied: python-dateutil>=2.8.2 in c:\\projects\\io_ground\\io_ground_venv\\lib\\site-packages (from pandas>=0.19->pmdarima) (2.9.0.post0)\n",
      "Requirement already satisfied: pytz>=2020.1 in c:\\projects\\io_ground\\io_ground_venv\\lib\\site-packages (from pandas>=0.19->pmdarima) (2024.1)\n",
      "Requirement already satisfied: tzdata>=2022.7 in c:\\projects\\io_ground\\io_ground_venv\\lib\\site-packages (from pandas>=0.19->pmdarima) (2024.1)\n",
      "Requirement already satisfied: threadpoolctl>=3.1.0 in c:\\projects\\io_ground\\io_ground_venv\\lib\\site-packages (from scikit-learn>=0.22->pmdarima) (3.5.0)\n",
      "Requirement already satisfied: patsy>=0.5.6 in c:\\projects\\io_ground\\io_ground_venv\\lib\\site-packages (from statsmodels>=0.13.2->pmdarima) (0.5.6)\n",
      "Requirement already satisfied: six in c:\\projects\\io_ground\\io_ground_venv\\lib\\site-packages (from patsy>=0.5.6->statsmodels>=0.13.2->pmdarima) (1.16.0)\n",
      "Downloading pmdarima-2.0.4-cp312-cp312-win_amd64.whl (625 kB)\n",
      "   ---------------------------------------- 0.0/625.1 kB ? eta -:--:--\n",
      "   --------------------------------------- 625.1/625.1 kB 41.0 MB/s eta 0:00:00\n",
      "Downloading Cython-3.0.10-cp312-cp312-win_amd64.whl (2.8 MB)\n",
      "   ---------------------------------------- 0.0/2.8 MB ? eta -:--:--\n",
      "   ---------------------------------------  2.8/2.8 MB 59.3 MB/s eta 0:00:01\n",
      "   ---------------------------------------- 2.8/2.8 MB 44.2 MB/s eta 0:00:00\n",
      "Downloading setuptools-72.0.0-py3-none-any.whl (2.3 MB)\n",
      "   ---------------------------------------- 0.0/2.3 MB ? eta -:--:--\n",
      "   ---------------------------------------- 2.3/2.3 MB 75.1 MB/s eta 0:00:00\n",
      "Installing collected packages: setuptools, Cython, pmdarima\n",
      "Successfully installed Cython-3.0.10 pmdarima-2.0.4 setuptools-72.0.0\n"
     ]
    }
   ],
   "source": [
    "!pip install pmdarima"
   ]
  },
  {
   "cell_type": "code",
   "execution_count": 239,
   "metadata": {},
   "outputs": [
    {
     "name": "stdout",
     "output_type": "stream",
     "text": [
      " ARIMA(0,1,0)(0,1,0)[3]             : AIC=8772.288, Time=0.02 sec\n",
      " ARIMA(0,1,0)(0,1,1)[3]             : AIC=8681.081, Time=0.97 sec\n",
      " ARIMA(0,1,0)(0,1,2)[3]             : AIC=8662.806, Time=1.83 sec\n",
      " ARIMA(0,1,0)(0,1,3)[3]             : AIC=8664.668, Time=2.49 sec\n",
      " ARIMA(0,1,0)(1,1,0)[3]             : AIC=8716.247, Time=0.26 sec\n",
      " ARIMA(0,1,0)(1,1,1)[3]             : AIC=8664.349, Time=1.53 sec\n",
      " ARIMA(0,1,0)(1,1,2)[3]             : AIC=8664.496, Time=3.00 sec\n",
      " ARIMA(0,1,0)(1,1,3)[3]             : AIC=inf, Time=3.02 sec\n",
      " ARIMA(0,1,0)(2,1,0)[3]             : AIC=8683.862, Time=0.36 sec\n",
      " ARIMA(0,1,0)(2,1,1)[3]             : AIC=8665.669, Time=1.55 sec\n",
      " ARIMA(0,1,0)(2,1,2)[3]             : AIC=8668.173, Time=3.28 sec\n",
      " ARIMA(0,1,0)(2,1,3)[3]             : AIC=inf, Time=3.98 sec\n",
      " ARIMA(0,1,0)(3,1,0)[3]             : AIC=8668.480, Time=1.30 sec\n",
      " ARIMA(0,1,0)(3,1,1)[3]             : AIC=inf, Time=3.21 sec\n",
      " ARIMA(0,1,0)(3,1,2)[3]             : AIC=inf, Time=4.40 sec\n",
      " ARIMA(0,1,1)(0,1,0)[3]             : AIC=8770.759, Time=0.15 sec\n",
      " ARIMA(0,1,1)(0,1,1)[3]             : AIC=8681.350, Time=1.10 sec\n",
      " ARIMA(0,1,1)(0,1,2)[3]             : AIC=8663.031, Time=1.53 sec\n",
      " ARIMA(0,1,1)(0,1,3)[3]             : AIC=8664.913, Time=2.26 sec\n",
      " ARIMA(0,1,1)(1,1,0)[3]             : AIC=8716.007, Time=0.27 sec\n",
      " ARIMA(0,1,1)(1,1,1)[3]             : AIC=inf, Time=2.01 sec\n",
      " ARIMA(0,1,1)(1,1,2)[3]             : AIC=8664.756, Time=4.01 sec\n",
      " ARIMA(0,1,1)(1,1,3)[3]             : AIC=inf, Time=4.11 sec\n",
      " ARIMA(0,1,1)(2,1,0)[3]             : AIC=8668.283, Time=1.31 sec\n",
      " ARIMA(0,1,1)(2,1,1)[3]             : AIC=8669.797, Time=4.19 sec\n",
      " ARIMA(0,1,1)(2,1,2)[3]             : AIC=inf, Time=4.07 sec\n",
      " ARIMA(0,1,1)(3,1,0)[3]             : AIC=8668.765, Time=1.90 sec\n",
      " ARIMA(0,1,1)(3,1,1)[3]             : AIC=inf, Time=4.01 sec\n",
      " ARIMA(0,1,2)(0,1,0)[3]             : AIC=8765.211, Time=0.25 sec\n",
      " ARIMA(0,1,2)(0,1,1)[3]             : AIC=8675.555, Time=1.55 sec\n",
      " ARIMA(0,1,2)(0,1,2)[3]             : AIC=8657.442, Time=1.93 sec\n",
      " ARIMA(0,1,2)(0,1,3)[3]             : AIC=8659.355, Time=3.70 sec\n",
      " ARIMA(0,1,2)(1,1,0)[3]             : AIC=8701.722, Time=1.32 sec\n",
      " ARIMA(0,1,2)(1,1,1)[3]             : AIC=inf, Time=2.89 sec\n",
      " ARIMA(0,1,2)(1,1,2)[3]             : AIC=8677.839, Time=1.75 sec\n",
      " ARIMA(0,1,2)(2,1,0)[3]             : AIC=8662.892, Time=1.67 sec\n",
      " ARIMA(0,1,2)(2,1,1)[3]             : AIC=8663.611, Time=3.37 sec\n",
      " ARIMA(0,1,2)(3,1,0)[3]             : AIC=8663.276, Time=1.69 sec\n",
      " ARIMA(1,1,0)(0,1,0)[3]             : AIC=8771.316, Time=0.02 sec\n",
      " ARIMA(1,1,0)(0,1,1)[3]             : AIC=8681.613, Time=1.10 sec\n",
      " ARIMA(1,1,0)(0,1,2)[3]             : AIC=8682.053, Time=0.55 sec\n",
      " ARIMA(1,1,0)(0,1,3)[3]             : AIC=8684.052, Time=1.57 sec\n",
      " ARIMA(1,1,0)(1,1,0)[3]             : AIC=8716.607, Time=0.18 sec\n",
      " ARIMA(1,1,0)(1,1,1)[3]             : AIC=inf, Time=2.09 sec\n",
      " ARIMA(1,1,0)(1,1,2)[3]             : AIC=8665.551, Time=3.30 sec\n",
      " ARIMA(1,1,0)(1,1,3)[3]             : AIC=inf, Time=3.61 sec\n",
      " ARIMA(1,1,0)(2,1,0)[3]             : AIC=8686.729, Time=0.33 sec\n",
      " ARIMA(1,1,0)(2,1,1)[3]             : AIC=inf, Time=3.19 sec\n",
      " ARIMA(1,1,0)(2,1,2)[3]             : AIC=inf, Time=3.18 sec\n",
      " ARIMA(1,1,0)(3,1,0)[3]             : AIC=8669.023, Time=1.58 sec\n",
      " ARIMA(1,1,0)(3,1,1)[3]             : AIC=inf, Time=4.30 sec\n",
      " ARIMA(1,1,1)(0,1,0)[3]             : AIC=8772.101, Time=1.64 sec\n",
      " ARIMA(1,1,1)(0,1,1)[3]             : AIC=8672.074, Time=1.23 sec\n",
      " ARIMA(1,1,1)(0,1,2)[3]             : AIC=8659.783, Time=3.44 sec\n",
      " ARIMA(1,1,1)(0,1,3)[3]             : AIC=8663.148, Time=2.29 sec\n",
      " ARIMA(1,1,1)(1,1,0)[3]             : AIC=8700.189, Time=0.92 sec\n",
      " ARIMA(1,1,1)(1,1,1)[3]             : AIC=8661.327, Time=2.26 sec\n",
      " ARIMA(1,1,1)(1,1,2)[3]             : AIC=8663.117, Time=2.70 sec\n",
      " ARIMA(1,1,1)(2,1,0)[3]             : AIC=8666.778, Time=1.38 sec\n",
      " ARIMA(1,1,1)(2,1,1)[3]             : AIC=8662.336, Time=2.88 sec\n",
      " ARIMA(1,1,1)(3,1,0)[3]             : AIC=8666.921, Time=1.51 sec\n",
      " ARIMA(1,1,2)(0,1,0)[3]             : AIC=8724.204, Time=1.59 sec\n",
      " ARIMA(1,1,2)(0,1,1)[3]             : AIC=8669.647, Time=2.37 sec\n",
      " ARIMA(1,1,2)(0,1,2)[3]             : AIC=8659.667, Time=4.41 sec\n",
      " ARIMA(1,1,2)(1,1,0)[3]             : AIC=inf, Time=3.04 sec\n",
      " ARIMA(1,1,2)(1,1,1)[3]             : AIC=8660.935, Time=4.19 sec\n",
      " ARIMA(1,1,2)(2,1,0)[3]             : AIC=8666.443, Time=3.58 sec\n",
      " ARIMA(2,1,0)(0,1,0)[3]             : AIC=8761.836, Time=0.19 sec\n",
      " ARIMA(2,1,0)(0,1,1)[3]             : AIC=8692.278, Time=0.52 sec\n",
      " ARIMA(2,1,0)(0,1,2)[3]             : AIC=8675.455, Time=1.12 sec\n",
      " ARIMA(2,1,0)(0,1,3)[3]             : AIC=8659.399, Time=2.73 sec\n",
      " ARIMA(2,1,0)(1,1,0)[3]             : AIC=8709.675, Time=0.19 sec\n",
      " ARIMA(2,1,0)(1,1,1)[3]             : AIC=8659.207, Time=3.26 sec\n",
      " ARIMA(2,1,0)(1,1,2)[3]             : AIC=8659.817, Time=3.28 sec\n",
      " ARIMA(2,1,0)(2,1,0)[3]             : AIC=8662.892, Time=1.23 sec\n",
      " ARIMA(2,1,0)(2,1,1)[3]             : AIC=inf, Time=3.66 sec\n",
      " ARIMA(2,1,0)(3,1,0)[3]             : AIC=8663.330, Time=2.38 sec\n",
      " ARIMA(2,1,1)(0,1,0)[3]             : AIC=inf, Time=2.84 sec\n",
      " ARIMA(2,1,1)(0,1,1)[3]             : AIC=8670.656, Time=2.19 sec\n",
      " ARIMA(2,1,1)(0,1,2)[3]             : AIC=8660.467, Time=2.04 sec\n",
      " ARIMA(2,1,1)(1,1,0)[3]             : AIC=inf, Time=3.30 sec\n",
      " ARIMA(2,1,1)(1,1,1)[3]             : AIC=8662.018, Time=1.83 sec\n",
      " ARIMA(2,1,1)(2,1,0)[3]             : AIC=8665.849, Time=1.30 sec\n",
      " ARIMA(2,1,2)(0,1,0)[3]             : AIC=8722.284, Time=1.51 sec\n",
      " ARIMA(2,1,2)(0,1,1)[3]             : AIC=inf, Time=3.99 sec\n",
      " ARIMA(2,1,2)(1,1,0)[3]             : AIC=8692.153, Time=3.29 sec\n",
      "\n",
      "Best model:  ARIMA(0,1,2)(0,1,2)[3]          \n",
      "Total fit time: 187.590 seconds\n"
     ]
    }
   ],
   "source": [
    "from pmdarima.arima import auto_arima\n",
    "\n",
    "auto_arima_model = auto_arima(demands.values, start_p=1, start_q=1, \n",
    "                             max_p=3, max_1=3, m=3, seasonal=True, # sarima(seasonal=True)\n",
    "                             d=1, D=1,\n",
    "                             max_P=3, max_Q=3, \n",
    "                             trace=True,\n",
    "                             error_action='ignore',\n",
    "                             suppress_warnings=True, \n",
    "                             stepwise=False)"
   ]
  }
 ],
 "metadata": {
  "kernelspec": {
   "display_name": "io_ground_venv",
   "language": "python",
   "name": "python3"
  },
  "language_info": {
   "codemirror_mode": {
    "name": "ipython",
    "version": 3
   },
   "file_extension": ".py",
   "mimetype": "text/x-python",
   "name": "python",
   "nbconvert_exporter": "python",
   "pygments_lexer": "ipython3",
   "version": "3.12.2"
  }
 },
 "nbformat": 4,
 "nbformat_minor": 2
}
